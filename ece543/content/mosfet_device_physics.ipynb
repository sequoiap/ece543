{
 "cells": [
  {
   "cell_type": "markdown",
   "metadata": {},
   "source": [
    "# MOSFET Device Physics"
   ]
  },
  {
   "attachments": {},
   "cell_type": "markdown",
   "metadata": {},
   "source": [
    "A few definitions:\n",
    "\n",
    "$V_{DS}$\n",
    ": Voltage from drain to source.\n",
    "\n",
    "$V_{GS}$\n",
    ": Voltage from gate to source."
   ]
  },
  {
   "attachments": {},
   "cell_type": "markdown",
   "metadata": {},
   "source": [
    "## Regimes of Operation"
   ]
  },
  {
   "attachments": {},
   "cell_type": "markdown",
   "metadata": {},
   "source": [
    "```{figure} ../images/fig1.svg\n",
    "---\n",
    "height: 350px\n",
    "name: fig1\n",
    "---\n",
    "Physical model of a transistor and its circuit representation.\n",
    "```\n",
    "\n",
    "In this configuration, the transistor is off. The p-substrate is almost an \n",
    "insulator, and the transistor doesn't conduct. There's no current, because \n",
    "there's nowhere for it to go!"
   ]
  },
  {
   "attachments": {},
   "cell_type": "markdown",
   "metadata": {},
   "source": [
    "```{figure} ../images/fig2.svg\n",
    "---\n",
    "height: 350px\n",
    "name: fig2\n",
    "---\n",
    "The gate voltage is less than the drain voltage, and the transistor is off.\n",
    "```\n",
    "\n",
    "The gate voltage is rising, repelling p-type carriers away from the channel.\n",
    "\n",
    "In this situation, the electrons are still all attached to their atoms' nucleus\n",
    "and are not moving. The negative ions are forming a depletion region; there are \n",
    "no free carriers, but the net charge of the region in the material is negative. \n",
    "\n",
    "Since there are no holes or carriers to conduct electrons, the current is still \n",
    "zero.\n",
    "\n",
    "doping\n",
    ": the introduction of impurities into a semiconductor crystal. It can leave \n",
    "  open holes for electrons to fill in the crystal lattice, or have too many \n",
    "  electrons to fill the valence shell. This means free carriers are introduced, \n",
    "  but since the total number of protons and electrons are equal, it still \n",
    "  leaves the material electrically neutral."
   ]
  },
  {
   "attachments": {},
   "cell_type": "markdown",
   "metadata": {},
   "source": [
    "```{figure} ../images/fig3.svg\n",
    "---\n",
    "height: 350px\n",
    "name: fig3\n",
    "---\n",
    "The gate voltage is greater than the drain voltage, the transistor is on, and\n",
    "current starts to flow.\n",
    "```\n",
    "\n",
    "The gate voltage is now greater than the threshold voltage, and the electrons \n",
    "form a channel close to the gate. Free electrons can detach from their nucleus\n",
    "and flow. Current flow from the drain to the source is now non-zero."
   ]
  },
  {
   "attachments": {},
   "cell_type": "markdown",
   "metadata": {},
   "source": [
    "```{figure} ../images/fig4.svg\n",
    "---\n",
    "height: 350px\n",
    "name: fig4\n",
    "---\n",
    "3D view of a MOSFET with length and width dimensions labelled.\n",
    "```"
   ]
  },
  {
   "attachments": {},
   "cell_type": "markdown",
   "metadata": {},
   "source": [
    "Obviously, when $V_{\\text{GS}} \\lt V_{\\text{th}}$, $I_D = 0$. When the gate \n",
    "voltage surpasses the threshold voltage, the current through the drain is given\n",
    "by\n",
    "\n",
    "$$\n",
    "    I_D = \\frac{1}{2} \\mu c_{\\text{ox}} \\frac{W}{L} \\left[ 2 (V_{\\text{GS}} - V_{\\text{th}}) V_{\\text{DS}} - V_{DS}^2 \\right]\n",
    "$$ (id_vgs_gt_vth)\n",
    "\n",
    "where $\\mu$ is the electron mobility and $c_{\\text{ox}}$ is the gate oxide \n",
    "capacitance per unit area.\n",
    "\n",
    "The larger $L$ is, the smaller $I_D$ is. Conversely, the wider $W$ is, the\n",
    "greater $I_D$ is."
   ]
  },
  {
   "cell_type": "code",
   "execution_count": 80,
   "metadata": {
    "tags": [
     "remove-cell"
    ]
   },
   "outputs": [],
   "source": [
    "import matplotlib\n",
    "import matplotlib.pyplot as plt\n",
    "import numpy as np\n",
    "from myst_nb import glue\n",
    "\n",
    "matplotlib.rc('font', size=18)"
   ]
  },
  {
   "cell_type": "code",
   "execution_count": 84,
   "metadata": {
    "tags": [
     "remove-cell"
    ]
   },
   "outputs": [
    {
     "data": {
      "application/papermill.record/image/png": "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\n",
      "application/papermill.record/text/plain": "<Figure size 432x288 with 1 Axes>"
     },
     "metadata": {
      "scrapbook": {
       "mime_prefix": "application/papermill.record/",
       "name": "boot_fig"
      }
     },
     "output_type": "display_data"
    },
    {
     "data": {
      "image/png": "[encoded data removed]",
      "text/plain": [
       "<Figure size 432x288 with 1 Axes>"
      ]
     },
     "metadata": {},
     "output_type": "display_data"
    }
   ],
   "source": [
    "fig, ax = plt.subplots()\n",
    "\n",
    "# Textbook style plots:\n",
    "# https://stackoverflow.com/a/12998531/11530613\n",
    "plt.tick_params(\n",
    "    axis='both',\n",
    "    which='both',\n",
    "    bottom=False,\n",
    "    left=False,\n",
    "    labelbottom=False,\n",
    "    labelleft=False\n",
    ")\n",
    "# Spines with arrows: \n",
    "# https://matplotlib.org/stable/gallery/spines/centered_spines_with_arrows.html\n",
    "ax.spines[[\"left\", \"bottom\"]].set_position((\"data\", 0))\n",
    "ax.spines[[\"top\", \"right\"]].set_visible(False)\n",
    "ax.plot(1, 0, \">k\", transform=ax.get_yaxis_transform(), clip_on=False)\n",
    "ax.plot(0, 1, \"^k\", transform=ax.get_xaxis_transform(), clip_on=False)\n",
    "\n",
    "x = np.linspace(0,4)\n",
    "y = x / (1 + x)\n",
    "plt.plot(x, y)\n",
    "plt.axvline(4, color='k', ls='--')\n",
    "plt.xlim(0, 8)\n",
    "plt.ylim(0, 1)\n",
    "plt.text(-0.6, 0.9, \"$I_D$\")\n",
    "plt.text(7.4, -0.1, \"$V_{DS}$\")\n",
    "plt.text(3.0, -0.1, \"$V_{GS} - V_{th}$\")\n",
    "# plt.show()\n",
    "glue(\"boot_fig\", fig, display=False)"
   ]
  },
  {
   "attachments": {},
   "cell_type": "markdown",
   "metadata": {},
   "source": [
    "```{glue:figure} boot_fig\n",
    ":figwidth: 400px\n",
    ":name: \"fig-boot\"\n",
    "\n",
    "Current vs. drain voltage (assume $V_{GS} \\gt V_{th}$).\n",
    "```"
   ]
  },
  {
   "attachments": {},
   "cell_type": "markdown",
   "metadata": {},
   "source": [
    "Note that in the above plot, the current is initially linear until the\n",
    "second term catches up. At $V_{\\text{DS}} = V_{\\text{GS}} - V_{\\text{th}}$, pinchoff occurs. "
   ]
  },
  {
   "cell_type": "markdown",
   "metadata": {},
   "source": []
  }
 ],
 "metadata": {
  "kernelspec": {
   "display_name": "Python 3.9.6 ('design')",
   "language": "python",
   "name": "python3"
  },
  "language_info": {
   "codemirror_mode": {
    "name": "ipython",
    "version": 3
   },
   "file_extension": ".py",
   "mimetype": "text/x-python",
   "name": "python",
   "nbconvert_exporter": "python",
   "pygments_lexer": "ipython3",
   "version": "3.9.6"
  },
  "orig_nbformat": 4,
  "vscode": {
   "interpreter": {
    "hash": "bb3200b6e43d4341bac0decd16cd7189f72dc8bcd43f4b7917dc5446e5a1d0af"
   }
  }
 },
 "nbformat": 4,
 "nbformat_minor": 2
}
