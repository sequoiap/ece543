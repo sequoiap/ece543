{
 "cells": [
  {
   "cell_type": "markdown",
   "metadata": {},
   "source": [
    "# Amplifiers Summary"
   ]
  },
  {
   "attachments": {},
   "cell_type": "markdown",
   "metadata": {},
   "source": [
    "## At-a-glance comparison\n",
    "\n",
    "| Property | Common source | CS w/ degeneration | Common drain | Common gate | Cascode |\n",
    "|:---------|:--------------|:------------------|:-------------|:------------|:--------|\n",
    "| Gain | High | Medium | Low | Medium | Highest |\n",
    "| $R_{\\text{in}}$ | $\\infty$ | $\\infty$ | $\\infty$ | Low | $\\infty$ |\n",
    "| $R_{\\text{out}}$ | Medium | High | Low | Medium (high if $R_s=0$) | High |\n",
    "| Application | General amplifier | High-speed op amp | Buffer | Impedance matching amplifier | High-precision closed-loop op amp |"
   ]
  },
  {
   "attachments": {},
   "cell_type": "markdown",
   "metadata": {},
   "source": [
    "## Detailed comparison"
   ]
  },
  {
   "cell_type": "markdown",
   "metadata": {},
   "source": []
  }
 ],
 "metadata": {
  "kernelspec": {
   "display_name": "Python 3.9.6 ('design')",
   "language": "python",
   "name": "python3"
  },
  "language_info": {
   "name": "python",
   "version": "3.9.6"
  },
  "orig_nbformat": 4,
  "vscode": {
   "interpreter": {
    "hash": "bb3200b6e43d4341bac0decd16cd7189f72dc8bcd43f4b7917dc5446e5a1d0af"
   }
  }
 },
 "nbformat": 4,
 "nbformat_minor": 2
}
