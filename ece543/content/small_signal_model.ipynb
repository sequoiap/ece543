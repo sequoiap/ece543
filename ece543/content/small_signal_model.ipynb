{
 "cells": [
  {
   "attachments": {},
   "cell_type": "markdown",
   "metadata": {},
   "source": [
    "# Small Signal Model"
   ]
  },
  {
   "attachments": {},
   "cell_type": "markdown",
   "metadata": {},
   "source": [
    "## Building up the model"
   ]
  },
  {
   "attachments": {},
   "cell_type": "markdown",
   "metadata": {},
   "source": [
    "```{figure} ../images/fig8.jpg\n",
    "---\n",
    "height: 350px\n",
    "name: fig8\n",
    "---\n",
    "Small-signal model where the signal is added to the gate.\n",
    "```\n",
    "\n",
    "Since these models are so nonlinear, we linearize around specific bias points.\n",
    "The $\\Delta I_D$ and $\\Delta V_{\\text{GS}}$ is the signal riding on top of the\n",
    "large signal, $V_{\\text{GS}_0}$ and $I_{D_0}$.\n",
    "\n",
    "```{figure} ../images/fig9.jpg\n",
    "---\n",
    "height: 350px\n",
    "name: fig9\n",
    "---\n",
    "Linearization of the IV curve.\n",
    "```\n",
    "\n",
    "In the above figure, $\\Delta V_{\\text{GS}}$ and the operating point are added\n",
    "to the signal $V_{\\text{GS}_0}$.\n",
    "\n",
    "```{figure} ../images/fig10.jpg\n",
    "---\n",
    "height: 350px\n",
    "name: fig10\n",
    "---\n",
    "Small-signal equivalent circuit.\n",
    "```\n",
    "\n",
    "In the above figure, $\\Delta I_D = g_m \\Delta V_{\\text{GS}}$."
   ]
  },
  {
   "attachments": {},
   "cell_type": "markdown",
   "metadata": {},
   "source": [
    "```{figure} ../images/fig11.jpg\n",
    "---\n",
    "height: 350px\n",
    "name: fig11\n",
    "---\n",
    "Small-signal model where the signal is added to the drain.\n",
    "```\n",
    "\n",
    "```{figure} ../images/fig12.jpg\n",
    "---\n",
    "height: 350px\n",
    "name: fig12\n",
    "---\n",
    "Linearization of the IV curve.\n",
    "```\n",
    "\n",
    "```{figure} ../images/fig13.jpg\n",
    "---\n",
    "height: 350px\n",
    "name: fig13\n",
    "---\n",
    "Small-signal model adds the resistor to include the channel length modulation effect.\n",
    "```\n",
    "\n",
    "Note the addition of the resistor $R_0$ in the above circuit. This includes the\n",
    "effects of channel length modulation into the small-signal mode and models the\n",
    "change in $I_D$ in response to the change in $V_{\\text{DS}}$."
   ]
  },
  {
   "attachments": {},
   "cell_type": "markdown",
   "metadata": {},
   "source": [
    "```{figure} ../images/fig14.svg\n",
    "---\n",
    "height: 350px\n",
    "name: fig14\n",
    "---\n",
    "We normally connect bulk to the lowest voltage to avoid any current flow.\n",
    "```\n",
    "\n",
    "```{figure} ../images/fig15.jpg\n",
    "---\n",
    "height: 350px\n",
    "name: fig15\n",
    "---\n",
    "We can bias the MOSFET to saturation.\n",
    "```\n",
    "\n",
    "$$\n",
    "    \\frac{\\partial I_D}{\\partial V_{\\text{BS}}} = g_{\\text{mb}} = \\frac{\\partial I_D}{\\partial V_{\\text{th }}} \\frac{\\partial V_{\\text{th}}}{\\partial V_{\\text{BS}}}\n",
    "$$\n",
    "\n",
    "$$\n",
    "    \\frac{\\partial I_D}{\\partial V_{\\text{th}}} = - \\mu c_{\\text{ox}} \\frac{W}{L} (V_{\\text{GS}} - V_{\\text{th}}) = -g_m\n",
    "$$\n",
    "\n",
    "$$\n",
    "    \\frac{\\partial V_{\\text{th}}}{\\partial V_{\\text{BS}}} = - \\frac{\\partial V_{\\text{th}}}{\\partial V_{\\text{SB}}} = \\frac{\\gamma}{2} (2 \\phi _F + V_{\\text{SB}})^{- \\frac{1}{2}}\n",
    "$$\n",
    "\n",
    "$$\n",
    "    g_{\\text{mb}} &= g_m \\frac{\\gamma}{2} (2 \\phi _F + V_{\\text{SB}})^{- \\frac{1}{2}} \\\\\n",
    "    &= g_m \\eta\n",
    "$$ (eqn_g_mb)\n",
    "\n",
    "where $\\eta \\approxeq 0.2$, typically. We often set $g_{\\text{mb}}$ to 0, since its effects are 5x smaller."
   ]
  },
  {
   "cell_type": "markdown",
   "metadata": {},
   "source": []
  },
  {
   "attachments": {},
   "cell_type": "markdown",
   "metadata": {},
   "source": [
    "## NMOS model"
   ]
  },
  {
   "attachments": {},
   "cell_type": "markdown",
   "metadata": {},
   "source": [
    "```{figure} ../images/fig16.jpg\n",
    "---\n",
    "height: 250px\n",
    "name: fig16\n",
    "---\n",
    "Small-signal model of an NMOS.\n",
    "```\n",
    "\n",
    "```{figure} ../images/fig17.jpg\n",
    "---\n",
    "height: 250px\n",
    "name: fig17\n",
    "---\n",
    "Complete NMOS model with capacitances.\n",
    "```"
   ]
  },
  {
   "attachments": {},
   "cell_type": "markdown",
   "metadata": {},
   "source": [
    "## PMOS model"
   ]
  },
  {
   "attachments": {},
   "cell_type": "markdown",
   "metadata": {},
   "source": [
    "```{figure} ../images/fig18.jpg\n",
    "---\n",
    "height: 250px\n",
    "name: fig18\n",
    "---\n",
    "Small-signal model of a PMOS.\n",
    "```"
   ]
  },
  {
   "attachments": {},
   "cell_type": "markdown",
   "metadata": {},
   "source": [
    "## Summary\n",
    "\n",
    "| Region of Operation | Condition |\n",
    "|:--------------------|:----------|\n",
    "| Cutoff | $V_{\\text{SG}} \\lt V_{\\text{th}}$ |\n",
    "| Saturation | $V_{\\text{SD}} \\gt V_{\\text{SG}}, V_{\\text{SG}} \\geq V_{\\text{th}}$ |\n",
    "| Triode | $V_{\\text{SD}} \\leq V_{\\text{SG}} - V_{\\text{th}}, V_{\\text{SG}} \\geq V_{\\text{th}}$ |"
   ]
  },
  {
   "cell_type": "markdown",
   "metadata": {},
   "source": []
  }
 ],
 "metadata": {
  "kernelspec": {
   "display_name": "Python 3.9.6 ('design')",
   "language": "python",
   "name": "python3"
  },
  "language_info": {
   "name": "python",
   "version": "3.9.6"
  },
  "orig_nbformat": 4,
  "vscode": {
   "interpreter": {
    "hash": "bb3200b6e43d4341bac0decd16cd7189f72dc8bcd43f4b7917dc5446e5a1d0af"
   }
  }
 },
 "nbformat": 4,
 "nbformat_minor": 2
}
