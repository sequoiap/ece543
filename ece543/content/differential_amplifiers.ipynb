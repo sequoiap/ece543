{
 "cells": [
  {
   "cell_type": "markdown",
   "metadata": {},
   "source": [
    "# Differential Amplifiers"
   ]
  },
  {
   "attachments": {},
   "cell_type": "markdown",
   "metadata": {},
   "source": [
    "## Why differential?\n",
    "\n",
    "It is quite rare to find single-ended amplifiers. Why should we choose a \n",
    "differential amplifier over a single-ended one? \n",
    "\n",
    "### Rejection of supply noise\n",
    "\n",
    "```{figure} ../images/fig50.jpg\n",
    "---\n",
    "height: 250px\n",
    "name: fig50\n",
    "---\n",
    "Singled-ended amplifier.\n",
    "```\n",
    "\n",
    "```{figure} ../images/fig51.jpg\n",
    "---\n",
    "height: 250px\n",
    "name: fig51\n",
    "---\n",
    "Differential amplifier cancels out voltage source noise.\n",
    "```\n",
    "\n",
    "### Rejection of coupling\n",
    "\n",
    "```{figure} ../images/52.jpg\n",
    "---\n",
    "height: 250px\n",
    "name: fig52\n",
    "---\n",
    "Singled-ended amplifier.\n",
    "```\n",
    "\n",
    "```{figure} ../images/fig53.jpg\n",
    "---\n",
    "height: 250px\n",
    "name: fig53\n",
    "---\n",
    "Differential amplifier cancels out voltage source noise.\n",
    "```\n",
    "\n",
    "### Rejection of coupling to other circuits\n",
    "\n",
    "```{figure} ../images/54.jpg\n",
    "---\n",
    "height: 250px\n",
    "name: fig54\n",
    "---\n",
    "Singled-ended amplifier.\n",
    "```\n",
    "\n",
    "```{figure} ../images/fig55.jpg\n",
    "---\n",
    "height: 250px\n",
    "name: fig55\n",
    "---\n",
    "Differential amplifier cancels out voltage source noise.\n",
    "```"
   ]
  },
  {
   "attachments": {},
   "cell_type": "markdown",
   "metadata": {},
   "source": [
    "```{admonition} Summary\n",
    ":class: tip\n",
    "\n",
    "* ✅ The max swing of a differential amplifier is about double that of a \n",
    "    single-ended amplifier.\n",
    "* ✅ Even-mode distortion is suppressed.\n",
    "```"
   ]
  },
  {
   "cell_type": "markdown",
   "metadata": {},
   "source": []
  }
 ],
 "metadata": {
  "kernelspec": {
   "display_name": "Python 3.9.6 ('design')",
   "language": "python",
   "name": "python3"
  },
  "language_info": {
   "name": "python",
   "version": "3.9.6"
  },
  "orig_nbformat": 4,
  "vscode": {
   "interpreter": {
    "hash": "bb3200b6e43d4341bac0decd16cd7189f72dc8bcd43f4b7917dc5446e5a1d0af"
   }
  }
 },
 "nbformat": 4,
 "nbformat_minor": 2
}
