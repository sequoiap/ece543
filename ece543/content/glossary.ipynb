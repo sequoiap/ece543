{
 "cells": [
  {
   "attachments": {},
   "cell_type": "markdown",
   "metadata": {},
   "source": [
    "# Glossary"
   ]
  },
  {
   "attachments": {},
   "cell_type": "markdown",
   "metadata": {},
   "source": [
    "\\begin{align}\n",
    "    \\mu &: \\text{electron mobility} \\\\ \n",
    "    c_{\\text{ox}} &: \\text{gate oxide capacitance}\n",
    "\\end{align}"
   ]
  },
  {
   "cell_type": "code",
   "execution_count": null,
   "metadata": {},
   "outputs": [],
   "source": [
    "import schemdraw\n",
    "import schemdraw.elements as elm"
   ]
  },
  {
   "cell_type": "code",
   "execution_count": null,
   "metadata": {},
   "outputs": [],
   "source": [
    "with schemdraw.Drawing() as d:\n",
    "    d += (V1 := elm.SourceV().label('5V'))\n",
    "    d += elm.Line().right(d.unit*.75)\n",
    "    d += (S1 := elm.SwitchSpdt2(action='close').up().anchor('b').label('$t=0$', loc='rgt'))\n",
    "    d += elm.Line().right(d.unit*.75).at(S1.c)\n",
    "    d += elm.Resistor().down().label('$100\\Omega$').label(['+','$v_o$','-'], loc='bot')\n",
    "    d += elm.Line().to(V1.start)\n",
    "    d += elm.Capacitor().at(S1.a).toy(V1.start).label('1$\\mu$F').dot()"
   ]
  }
 ],
 "metadata": {
  "kernelspec": {
   "display_name": "Python 3.9.6 ('design')",
   "language": "python",
   "name": "python3"
  },
  "language_info": {
   "name": "python",
   "version": "3.9.6"
  },
  "orig_nbformat": 4,
  "vscode": {
   "interpreter": {
    "hash": "bb3200b6e43d4341bac0decd16cd7189f72dc8bcd43f4b7917dc5446e5a1d0af"
   }
  }
 },
 "nbformat": 4,
 "nbformat_minor": 2
}
