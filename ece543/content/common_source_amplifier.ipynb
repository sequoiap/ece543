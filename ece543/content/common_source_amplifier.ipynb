{
 "cells": [
  {
   "attachments": {},
   "cell_type": "markdown",
   "metadata": {},
   "source": [
    "# Common-Source Amplifier"
   ]
  },
  {
   "cell_type": "code",
   "execution_count": null,
   "metadata": {},
   "outputs": [],
   "source": []
  },
  {
   "attachments": {},
   "cell_type": "markdown",
   "metadata": {},
   "source": [
    "## Large-signal behavior"
   ]
  },
  {
   "attachments": {},
   "cell_type": "markdown",
   "metadata": {},
   "source": [
    "```{figure} ../images/fig19.jpg\n",
    "---\n",
    "height: 250px\n",
    "name: fig19\n",
    "---\n",
    "Common-source amplifier and large-signal behavior.\n",
    "```\n",
    "\n",
    "As $V_{\\text{th}}$ begins to ramp up from zero, the MOSFET is initially in\n",
    "cutoff (no channel has formed). As the saturation regime is reached, the current\n",
    "begins to increase quadratically ($I_D \\propto (V_{\\text{in}} - V_a)^2$). Continuing\n",
    "to increase $V_{\\text{th}}$ will eventually put the MOSFET into the triode regime\n",
    "(when $V_{\\text{GS}} - V_{\\text{th}} \\gt V_{\\text{DS}}$). Once you hit that point,\n",
    "$I_D$ no longer increases quadratically. The max slope is therefore somewhere \n",
    "between saturation and triode. To achieve the maximal amplifier gain, you'd bias\n",
    "around that point."
   ]
  },
  {
   "attachments": {},
   "cell_type": "markdown",
   "metadata": {},
   "source": [
    "## Small signal gain"
   ]
  },
  {
   "attachments": {},
   "cell_type": "markdown",
   "metadata": {},
   "source": [
    "```{figure} ../images/fig20.jpg\n",
    "---\n",
    "height: 250px\n",
    "name: fig20\n",
    "---\n",
    "Small-signal gain.\n",
    "```\n",
    "\n",
    "The gain is given by\n",
    "\n",
    "$$\n",
    "    A = \\frac{V_{\\text{out}}}{V_{\\text{in}}} = -g_m (r_o || R_D)\n",
    "$$ (gain_common_source)\n",
    "\n",
    "If $R_D = \\infty$,\n",
    "\n",
    "$$\n",
    "    A = -g_m r_o = - \\frac{2 I_D}{V_{\\text{GS}} - V_{\\text{th}}} \\frac{V_E L}{I_D} = - \\frac{2 V_E L}{V_{\\text{GS}} - V_{\\text{th}}}\n",
    "$$ (gain_common_source_infty)\n",
    "\n",
    "In modern processes, this gain is on the order of -10 and $r_o \\gg 1/g_m$.\n",
    "\n",
    "You use a large $R_D$ to maximize gain, but this moves the transistor's bias point closer to triode. The output swing decreases, and the gain varies with input bias voltage."
   ]
  },
  {
   "attachments": {},
   "cell_type": "markdown",
   "metadata": {},
   "source": [
    "## CS with NMOS load"
   ]
  },
  {
   "attachments": {},
   "cell_type": "markdown",
   "metadata": {},
   "source": [
    "```{figure} ../images/fig21.jpg\n",
    "---\n",
    "height: 250px\n",
    "name: fig21\n",
    "---\n",
    "CS w/ NMOS load.\n",
    "```\n",
    "\n",
    "```{figure} ../images/fig22.jpg\n",
    "---\n",
    "height: 250px\n",
    "name: fig22\n",
    "---\n",
    "Small-signal model.\n",
    "```"
   ]
  },
  {
   "attachments": {},
   "cell_type": "markdown",
   "metadata": {},
   "source": [
    "For this model, we assume that $g_m r_o \\gg 1$ and $r_o \\gg 1/g_m$.\n",
    "\n",
    "The current $I_x$ is given by\n",
    "\n",
    "$$\n",
    "    I_x = (g_m + g_{\\text{mb}}) V_x + \\frac{V_x}{r_o}\n",
    "$$\n",
    "\n",
    "Also,\n",
    "\n",
    "$$\n",
    "    \\frac{V_x}{I_x} = \\frac{1}{g_m + g_{\\text{mb}}} || r_o \\approxeq \\frac{1}{g_m + g_{\\text{mb}}}\n",
    "$$\n",
    "\n",
    "The gain is given by\n",
    "\n",
    "$$\n",
    "    A &\\approxeq -g_{\\text{m1}} \\frac{1}{g_{\\text{m2}} + g_{\\text{mb2}}} = -\\frac{g_{m1}}{g_{m2}} \\frac{1}{1 + \\eta} = \\frac{\\sqrt{2 \\mu c_{\\text{ox}} \\left( \\frac{W}{L} \\right)_1 I_{\\text{D1}}}}{\\sqrt{2 \\mu c_{\\text{ox}} \\left( \\frac{W}{L} \\right)_2 I_{\\text{D2}}}} \\frac{1}{1 + \\eta} \\\\\n",
    "    &= \\sqrt{\\frac{ \\left( \\frac{W}{L} \\right)_1 }{ \\left( \\frac{W}{L} \\right)_2 }} \\frac{1}{1 + \\eta}\n",
    "$$\n",
    "\n",
    "The gain doesn't vary with input bias voltage. It does, however, have limited swing.\n",
    "\n",
    "In this design,\n",
    "\n",
    "* Gain is more stable across process variations.\n",
    "* Usually the gain is smaller compared to the previous topology.\n",
    "* Gain is independent of input bias."
   ]
  },
  {
   "attachments": {},
   "cell_type": "markdown",
   "metadata": {},
   "source": [
    "## CS with PMOS diode load"
   ]
  },
  {
   "attachments": {},
   "cell_type": "markdown",
   "metadata": {},
   "source": [
    "Also known as a \"diode connected transistor.\"\n",
    "\n",
    "```{figure} ../images/fig23.jpg\n",
    "---\n",
    "height: 250px\n",
    "name: fig23\n",
    "---\n",
    "Circuit diagram.\n",
    "```\n",
    "\n",
    "The input resistance looking into M2 is \n",
    "\n",
    "$$\n",
    "    R_{\\text{up}} = \\frac{1}{g_m} || r_o\n",
    "$$\n",
    "\n",
    "which is much smaller than $r_o$ because the $1/g_m$ term dominates in parallel.\n",
    "\n",
    "The gain is given by\n",
    "\n",
    "$$\n",
    "    A &= -g_{\\text{m1}} \\left( r_{o1} || \\frac{1}{g_{m2}} || r_{o2} \\right) \\\\\n",
    "    &\\approxeq \\frac{-g_{m1}}{g_{m2}} = \\frac{\\sqrt{2 \\mu_n c_{\\text{ox_{n}}} \\left( \\frac{W}{L} \\right)_1 I_{\\text{D1}}}}{\\sqrt{2 \\mu_p c_{\\text{ox_{p}}} \\left( \\frac{W}{L} \\right)_2 I_{\\text{D2}}}} \\\\\n",
    "    &= - \\sqrt{ \\frac{\\mu_n c_{\\text{ox_{n}}} \\left( \\frac{W}{L} \\right)_1}{\\mu_p c_{\\text{ox_{p}}} \\left( \\frac{W}{L} \\right)_2} }\n",
    "$$\n",
    "\n",
    "We can cancel $I_{D1}$ and $I_{D2}$ on the second line above if we assume a \n",
    "strong inversion. The gain again doesn't vary with input bias voltage, but has \n",
    "limited swing."
   ]
  },
  {
   "attachments": {},
   "cell_type": "markdown",
   "metadata": {},
   "source": [
    "## CS with PMOS load"
   ]
  },
  {
   "attachments": {},
   "cell_type": "markdown",
   "metadata": {},
   "source": [
    "```{figure} ../images/fig24.jpg\n",
    "---\n",
    "height: 250px\n",
    "name: fig24\n",
    "---\n",
    "Circuit diagram.\n",
    "```"
   ]
  },
  {
   "attachments": {},
   "cell_type": "markdown",
   "metadata": {},
   "source": [
    "In this configuration, the input resistance looking up is\n",
    "\n",
    "$$\n",
    "    R_{\\text{up}} = r_{o2}\n",
    "$$\n",
    "\n",
    "The gain is given by\n",
    "\n",
    "$$\n",
    "    A = -g_{m1} (r_{o1} || r_{o2})\n",
    "$$\n",
    "\n",
    "This design is\n",
    "\n",
    "* Dependent on process, voltage, temperature (PVT) variation\n",
    "* Much higher gain than earlier architectures."
   ]
  },
  {
   "attachments": {},
   "cell_type": "markdown",
   "metadata": {},
   "source": [
    "This looks very similar to the circuit with a resistor load above $V_{\\text{out}}$.\n",
    "There are differences, however.\n",
    "\n",
    "```{figure} ../images/fig25.jpg\n",
    "---\n",
    "height: 250px\n",
    "name: fig25\n",
    "---\n",
    "Difference between resistor load and MOSFET load.\n",
    "```\n",
    "\n",
    "$r_{o2}$ can increase without driving M1 into triode. In the first case (left), \n",
    "a large $R_D$ causes a large voltage drop $I_D R_D$ which moves M1 closer to triode. \n",
    "In the second case (right), a big $r_{o2}$ doesn't change $V_{\\text{SD}}$. Therefore,\n",
    "M1 can stay far away from triode; the voltage drop is NOT $I_D r_{o2}$.\n",
    "\n",
    "```{warning}\n",
    "You cannot multiply a large signal current with a small signal resistance.\n",
    "```\n",
    "\n",
    "```{admonition} Summary\n",
    ":class: tip\n",
    "\n",
    "As $R_D$ increases, $V_{\\text{out}}$ decreases, which forces M1 into triode.\n",
    "```"
   ]
  },
  {
   "attachments": {},
   "cell_type": "markdown",
   "metadata": {},
   "source": [
    "## CS with source degeneration"
   ]
  },
  {
   "attachments": {},
   "cell_type": "markdown",
   "metadata": {},
   "source": [
    "```{figure} ../images/fig26.jpg\n",
    "---\n",
    "height: 250px\n",
    "name: fig26\n",
    "---\n",
    "Common source amplifier with source degeneration.\n",
    "```"
   ]
  },
  {
   "attachments": {},
   "cell_type": "markdown",
   "metadata": {},
   "source": [
    "```{figure} ../images/fig27.jpg\n",
    "---\n",
    "height: 150px\n",
    "name: fig27\n",
    "---\n",
    "Generalized amplifier model.\n",
    "```"
   ]
  },
  {
   "attachments": {},
   "cell_type": "markdown",
   "metadata": {},
   "source": [
    "```{figure} ../images/fig28.jpg\n",
    "---\n",
    "height: 110px\n",
    "name: fig28\n",
    "figclass: margin\n",
    "---\n",
    "Small signal ground.\n",
    "```\n",
    "\n",
    "We can short the output to ground, applying $V_{\\text{in}}$ and observing\n",
    "$I_{\\text{out}}$, as shown in {numref}`Figure {number} <fig28>`. Doing so yields\n",
    "\n",
    "$$\n",
    "    G_m = \\frac{I_{\\text{out}}}{V_{\\text{in}}}\n",
    "$$"
   ]
  },
  {
   "attachments": {},
   "cell_type": "markdown",
   "metadata": {},
   "source": [
    "```{figure} ../images/fig29.jpg\n",
    "---\n",
    "height: 150px\n",
    "name: fig29\n",
    "figclass: margin\n",
    "---\n",
    "Apply a test voltage.\n",
    "```\n",
    "\n",
    "We can now ground the output. Apply $V_x$, a test voltage, to the op amp and \n",
    "observe $I_x$, as in {numref}`Figure {number} <fig29>`. Doing so yields\n",
    "\n",
    "$$\n",
    "    R_{\\text{out}} = \\frac{V_x}{I_x}\n",
    "$$"
   ]
  },
  {
   "attachments": {},
   "cell_type": "markdown",
   "metadata": {},
   "source": [
    "```{figure} ../images/fig30.jpg\n",
    "---\n",
    "height: 200px\n",
    "name: fig30\n",
    "---\n",
    "CS with source degeneration small-signal model.\n",
    "```"
   ]
  },
  {
   "attachments": {},
   "cell_type": "markdown",
   "metadata": {},
   "source": [
    "Lots of equations from page 16 of the notes."
   ]
  },
  {
   "attachments": {},
   "cell_type": "markdown",
   "metadata": {},
   "source": [
    "```{figure} ../images/fig31.jpg\n",
    "---\n",
    "height: 250px\n",
    "name: fig31\n",
    "---\n",
    "Input resistance model.\n",
    "```"
   ]
  },
  {
   "attachments": {},
   "cell_type": "markdown",
   "metadata": {},
   "source": [
    "```{admonition} Summary\n",
    ":class: tip\n",
    "\n",
    "* The gain of the common source with degenration is guaranteed to be less than\n",
    "    a common source amplifier alone.\n",
    "* CS with degeneration is more robust over PVT than common source. Process is\n",
    "    parameterized by variables like $\\mu$, $c_{\\text{ox}}$, etc. The voltage\n",
    "    supply can also vary.\n",
    "```"
   ]
  },
  {
   "cell_type": "markdown",
   "metadata": {},
   "source": []
  }
 ],
 "metadata": {
  "kernelspec": {
   "display_name": "Python 3.9.6 ('design')",
   "language": "python",
   "name": "python3"
  },
  "language_info": {
   "name": "python",
   "version": "3.9.6"
  },
  "orig_nbformat": 4,
  "vscode": {
   "interpreter": {
    "hash": "bb3200b6e43d4341bac0decd16cd7189f72dc8bcd43f4b7917dc5446e5a1d0af"
   }
  }
 },
 "nbformat": 4,
 "nbformat_minor": 2
}
