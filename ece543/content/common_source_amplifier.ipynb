{
 "cells": [
  {
   "attachments": {},
   "cell_type": "markdown",
   "metadata": {},
   "source": [
    "# Common-Source Amplifier"
   ]
  },
  {
   "cell_type": "code",
   "execution_count": null,
   "metadata": {},
   "outputs": [],
   "source": []
  },
  {
   "attachments": {},
   "cell_type": "markdown",
   "metadata": {},
   "source": [
    "## Large-signal behavior"
   ]
  },
  {
   "attachments": {},
   "cell_type": "markdown",
   "metadata": {},
   "source": [
    "```{figure} ../images/fig19.jpg\n",
    "---\n",
    "height: 250px\n",
    "name: fig19\n",
    "---\n",
    "Common-source amplifier and large-signal behavior.\n",
    "```\n",
    "\n",
    "As $V_{\\text{th}}$ begins to ramp up from zero, the MOSFET is initially in\n",
    "cutoff (no channel has formed). As the saturation regime is reached, the current\n",
    "begins to increase quadratically ($I_D \\propto (V_{\\text{in}} - V_a)^2$). Continuing\n",
    "to increase $V_{\\text{th}}$ will eventually put the MOSFET into the triode regime\n",
    "(when $V_{\\text{GS}} - V_{\\text{th}} \\gt V_{\\text{DS}}$). Once you hit that point,\n",
    "$I_D$ no longer increases quadratically. The max slope is therefore somewhere \n",
    "between saturation and triode. To achieve the maximal amplifier gain, you'd bias\n",
    "around that point."
   ]
  },
  {
   "attachments": {},
   "cell_type": "markdown",
   "metadata": {},
   "source": [
    "## Small signal gain"
   ]
  },
  {
   "attachments": {},
   "cell_type": "markdown",
   "metadata": {},
   "source": [
    "```{figure} ../images/fig20.jpg\n",
    "---\n",
    "height: 250px\n",
    "name: fig20\n",
    "---\n",
    "Small-signal gain.\n",
    "```\n",
    "\n",
    "The gain is given by\n",
    "\n",
    "$$\n",
    "    A = \\frac{V_{\\text{out}}}{V_{\\text{in}}} = -g_m (r_o || R_D)\n",
    "$$ (gain_common_source)\n",
    "\n",
    "If $R_D = \\infty$,\n",
    "\n",
    "$$\n",
    "    A = -g_m r_o = - \\frac{2 I_D}{V_{\\text{GS}} - V_{\\text{th}}} \\frac{V_E L}{I_D} = - \\frac{2 V_E L}{V_{\\text{GS}} - V_{\\text{th}}}\n",
    "$$ (gain_common_source_infty)\n",
    "\n",
    "In modern processes, this gain is on the order of -10 and $r_o \\gg 1/g_m$.\n",
    "\n",
    "You use a large $R_D$ to maximize gain, but this moves the transistor's bias point closer to triode. The output swing decreases, and the gain varies with input bias voltage."
   ]
  },
  {
   "attachments": {},
   "cell_type": "markdown",
   "metadata": {},
   "source": [
    "## CS with NMOS load"
   ]
  },
  {
   "attachments": {},
   "cell_type": "markdown",
   "metadata": {},
   "source": [
    "## CS with PMOS diode load"
   ]
  },
  {
   "attachments": {},
   "cell_type": "markdown",
   "metadata": {},
   "source": [
    "## CS with PMOS load"
   ]
  },
  {
   "attachments": {},
   "cell_type": "markdown",
   "metadata": {},
   "source": [
    "## CS with source degeneration"
   ]
  },
  {
   "cell_type": "markdown",
   "metadata": {},
   "source": []
  }
 ],
 "metadata": {
  "kernelspec": {
   "display_name": "Python 3.9.6 ('design')",
   "language": "python",
   "name": "python3"
  },
  "language_info": {
   "name": "python",
   "version": "3.9.6"
  },
  "orig_nbformat": 4,
  "vscode": {
   "interpreter": {
    "hash": "bb3200b6e43d4341bac0decd16cd7189f72dc8bcd43f4b7917dc5446e5a1d0af"
   }
  }
 },
 "nbformat": 4,
 "nbformat_minor": 2
}
