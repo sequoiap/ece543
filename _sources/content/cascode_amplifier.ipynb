{
 "cells": [
  {
   "attachments": {},
   "cell_type": "markdown",
   "metadata": {},
   "source": [
    "# Cascode Amplifiers\n",
    "\n",
    "Cascode amplifiers are where MOSFETs are stacked on top of each other."
   ]
  },
  {
   "attachments": {},
   "cell_type": "markdown",
   "metadata": {},
   "source": [
    "## Cascode Amplifiers"
   ]
  },
  {
   "attachments": {},
   "cell_type": "markdown",
   "metadata": {},
   "source": [
    "### Large-signal behavior"
   ]
  },
  {
   "attachments": {},
   "cell_type": "markdown",
   "metadata": {},
   "source": [
    "We know that $A = -G_m R_{\\text{out}}$.\n",
    "\n",
    "```{figure} ../images/fig41.jpg\n",
    "---\n",
    "height: 250px\n",
    "name: fig41\n",
    "---\n",
    "Small-signal gain.\n",
    "```\n",
    "\n",
    "$$\n",
    "    I_x = g_{m_1} V_{\\text{in}} \\frac{r_{o1}}{r_{o1} + R_x}\n",
    "$$\n",
    "\n",
    "$$\n",
    "    R_x \\approxeq \\frac{1}{g_{m_2} + g_{mb_2}} \\ll r_{o1}\n",
    "$$\n",
    "\n",
    "which we know from the common gate topology. Knowing that, $I_x$ can be \n",
    "reduced to\n",
    "\n",
    "$$\n",
    "    I_x \\approxeq g_{m_1} V_{\\text{in}}\n",
    "$$\n",
    "\n",
    "and\n",
    "\n",
    "$$\n",
    "    G_m = \\frac{I_x}{V_{\\text{in}}} = g_{m_1}\n",
    "$$"
   ]
  },
  {
   "attachments": {},
   "cell_type": "markdown",
   "metadata": {},
   "source": [
    "### Impedance\n",
    "\n",
    "```{figure} ../images/fig42.jpg\n",
    "---\n",
    "height: 250px\n",
    "name: fig42\n",
    "---\n",
    "Equivalent impedances.\n",
    "```\n",
    "\n",
    "```{margin}\n",
    "Note that $(g_{m_2} + g_{mb_2}) \\gg 1$.\n",
    "```\n",
    "\n",
    "$$\n",
    "    R_{\\text{dn}} &= r_{o2} + r_{o1} + (g_{m_2} + g_{mb_2}) r_{o2} r_{o1} \\\\\n",
    "    &\\approxeq (g_{m_2} + g_{mb_2}) r_{o2} r_{o1}\n",
    "$$\n",
    "\n",
    "The output resistance is therefore\n",
    "\n",
    "$$\n",
    "    R_{\\text{out}} = R_D || R_{\\text{dn}}\n",
    "$$"
   ]
  },
  {
   "attachments": {},
   "cell_type": "markdown",
   "metadata": {},
   "source": [
    "### Small-signal gain"
   ]
  },
  {
   "attachments": {},
   "cell_type": "markdown",
   "metadata": {},
   "source": [
    "The gain is given by \n",
    "\n",
    "$$\n",
    "    A = - G_m R_{\\text{out}} \\approxeq -g_{m_1} \\left[ (g_{m_2} + g_{mb_2}) r_{o2} r_{o1} || R_D \\right]\n",
    "$$\n",
    "\n",
    "If $R_D$ is made large, the cascode can have greater gain than some other \n",
    "amplifiers. If $R_D = \\infty$, then\n",
    "\n",
    "$$\n",
    "    A = -g_{m_1} r_{o1} (g_{m_2} + g_{mb_2}) r_{o2}\n",
    "$$\n",
    "\n",
    "The typical cascode implementation is shown below.\n",
    "\n",
    "```{figure} ../images/fig43.jpg\n",
    "---\n",
    "height: 250px\n",
    "name: fig43\n",
    "---\n",
    "Typical cascode implementation.\n",
    "```\n",
    "\n",
    "With a cascode, the output swing is limited. All MOSFETs must be in saturation,\n",
    "and the max output swing is\n",
    "\n",
    "$$\n",
    "    V_{\\text{max swing}} = V_{\\text{DD}} - V_{\\text{DS}_1} - V_{\\text{DS}_2} - V_{\\text{DS}_3} - V_{\\text{DS}_4}\n",
    "$$\n",
    "\n",
    "or, what's left over after all MOSFETs are biased to saturation."
   ]
  },
  {
   "attachments": {},
   "cell_type": "markdown",
   "metadata": {},
   "source": [
    "## Folded Cascode\n",
    "\n",
    "```{figure} ../images/fig44.jpg\n",
    "---\n",
    "height: 250px\n",
    "name: fig44\n",
    "---\n",
    "Folded cascode circuit diagram. Note the MOSFET on the left is a PMOS, while \n",
    "on the right is an NMOS.\n",
    "```"
   ]
  },
  {
   "attachments": {},
   "cell_type": "markdown",
   "metadata": {},
   "source": [
    "### Large-signal behavior\n",
    "\n",
    "```{figure} ../images/fig45.jpg\n",
    "---\n",
    "height: 250px\n",
    "name: fig45\n",
    "---\n",
    "Large-signal behavior.\n",
    "```\n",
    "\n",
    "$$\n",
    "    I_1 = \\frac{1}{2} \\mu_p c_{\\text{ox}_p} \\left( \\frac{W}{L} \\right)_1 (V_{SG_1} - V_{\\text{th}_p})^2\n",
    "$$\n",
    "\n",
    "```{figure} ../images/fig46.jpg\n",
    "---\n",
    "height: 250px\n",
    "name: fig46\n",
    "---\n",
    "Output voltage relative to input voltage.\n",
    "```"
   ]
  },
  {
   "attachments": {},
   "cell_type": "markdown",
   "metadata": {},
   "source": [
    "### Small-signal gain"
   ]
  },
  {
   "attachments": {},
   "cell_type": "markdown",
   "metadata": {},
   "source": [
    "```{figure} ../images/fig47.jpg\n",
    "---\n",
    "height: 250px\n",
    "name: fig47\n",
    "---\n",
    "Small-signal gain.\n",
    "```\n",
    "\n",
    "```{figure} ../images/fig48.jpg\n",
    "---\n",
    "height: 250px\n",
    "name: fig48\n",
    "---\n",
    "Small-signal circuit model. Note the similarities it shares with the cascode\n",
    "model.\n",
    "```\n",
    "\n",
    "$$\n",
    "    G_m = \\frac{I_{\\text{out}}}{V_{\\text{in}}} \\approxeq g_{m_1}\n",
    "$$\n",
    "\n",
    "$$\n",
    "    R_{\\text{out}} &= \\left[ r_{o1} + r_{o2} + (g_{m_2} + g_{mb_2}) r_{o2} r_{o1} \\right] || R_D \\\\\n",
    "    &\\approxeq (g_{m_2} + g_{mb_2}) r_{o2} r_{o1} || R_D\n",
    "$$\n",
    "\n",
    "And the gain is\n",
    "\n",
    "$$\n",
    "    A = G_m R_{\\text{out}} = -g_{m_1} \\left[ (g_{m_2} + g_{mb_2}) r_{o2} r_{o1} || R_D \\right]\n",
    "$$"
   ]
  },
  {
   "attachments": {},
   "cell_type": "markdown",
   "metadata": {},
   "source": [
    "````{admonition} Exercise\n",
    ":class: important\n",
    "\n",
    "Find the gain in the following circuit.\n",
    "\n",
    "```{figure} ../images/fig49.jpg\n",
    "---\n",
    "height: 250px\n",
    "name: fig49\n",
    "---\n",
    "Sample problem.\n",
    "```\n",
    "````"
   ]
  },
  {
   "cell_type": "markdown",
   "metadata": {},
   "source": []
  }
 ],
 "metadata": {
  "kernelspec": {
   "display_name": "Python 3.9.6 ('design')",
   "language": "python",
   "name": "python3"
  },
  "language_info": {
   "name": "python",
   "version": "3.9.6"
  },
  "orig_nbformat": 4,
  "vscode": {
   "interpreter": {
    "hash": "bb3200b6e43d4341bac0decd16cd7189f72dc8bcd43f4b7917dc5446e5a1d0af"
   }
  }
 },
 "nbformat": 4,
 "nbformat_minor": 2
}
