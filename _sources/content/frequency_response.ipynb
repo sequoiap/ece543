{
 "cells": [
  {
   "attachments": {},
   "cell_type": "markdown",
   "metadata": {},
   "source": [
    "# Frequency Response"
   ]
  },
  {
   "attachments": {},
   "cell_type": "markdown",
   "metadata": {},
   "source": [
    "## Poles and nodes\n",
    "\n",
    "```{figure} ../images/fig84.jpg\n",
    "---\n",
    "height: 300px\n",
    "name: fig84\n",
    "---\n",
    "Amplifier chain with complex impedances.\n",
    "```\n",
    "\n",
    "$$\n",
    "    \\frac{V_{\\text{out}}}{V_{\\text{in}}} (s) &= \\frac{A_1}{1 + s R_1 C_1} \\frac{A_2}{1 + s R_2 C_2} \\quad \\text{ or } \\\\\n",
    "    &= \\frac{A_o}{\\left( 1 + \\frac{s}{w_{p_1}} \\right) \\left( 1 + \\frac{s}{w_{p_2}} \\right) \\ldots}\n",
    "$$\n",
    "\n",
    "where $A_o$ is the DC gain. Note that $\\omega_{p_1} = 1/(R_1 C_1)$, \n",
    "$\\omega_{p_2} = 1/(R_2 C_2)$, etc."
   ]
  },
  {
   "attachments": {},
   "cell_type": "markdown",
   "metadata": {},
   "source": [
    "## Miller effect\n",
    "\n",
    "```{figure} ../images/fig85.jpg\n",
    "---\n",
    "height: 300px\n",
    "name: fig85\n",
    "---\n",
    "Miller effect model.\n",
    "```"
   ]
  },
  {
   "attachments": {},
   "cell_type": "markdown",
   "metadata": {},
   "source": [
    "## Common source"
   ]
  },
  {
   "attachments": {},
   "cell_type": "markdown",
   "metadata": {},
   "source": [
    "## Common drain"
   ]
  },
  {
   "attachments": {},
   "cell_type": "markdown",
   "metadata": {},
   "source": [
    "## Common gate"
   ]
  },
  {
   "attachments": {},
   "cell_type": "markdown",
   "metadata": {},
   "source": [
    "## Cascode"
   ]
  },
  {
   "attachments": {},
   "cell_type": "markdown",
   "metadata": {},
   "source": [
    "## Differential amplifier"
   ]
  },
  {
   "attachments": {},
   "cell_type": "markdown",
   "metadata": {},
   "source": [
    "## Differential amplifier with current mirror load"
   ]
  },
  {
   "cell_type": "markdown",
   "metadata": {},
   "source": []
  }
 ],
 "metadata": {
  "kernelspec": {
   "display_name": "Python 3.9.6 ('design')",
   "language": "python",
   "name": "python3"
  },
  "language_info": {
   "name": "python",
   "version": "3.9.6"
  },
  "orig_nbformat": 4,
  "vscode": {
   "interpreter": {
    "hash": "bb3200b6e43d4341bac0decd16cd7189f72dc8bcd43f4b7917dc5446e5a1d0af"
   }
  }
 },
 "nbformat": 4,
 "nbformat_minor": 2
}
