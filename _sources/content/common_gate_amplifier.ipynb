{
 "cells": [
  {
   "cell_type": "markdown",
   "metadata": {},
   "source": [
    "# Common Gate Amplifiers"
   ]
  },
  {
   "attachments": {},
   "cell_type": "markdown",
   "metadata": {},
   "source": [
    "```{figure} ../images/fig38.jpg\n",
    "---\n",
    "height: 250px\n",
    "name: fig38\n",
    "---\n",
    "Large-signal behavior.\n",
    "```\n",
    "\n",
    "Where the slope is the highest is where you want to bias for max gain (given \n",
    "you have a large enough margin away from triode).\n",
    "\n",
    "The conditions for saturation are as follows:\n",
    "\n",
    "* $V_{\\text{DS}} > V_{\\text{GS}} - V_{\\text{th}}$\n",
    "* $V_D > V_G - V_{\\text{th}}$\n",
    "* $V_{\\text{out}} > V_B - V_{\\text{th}}$"
   ]
  },
  {
   "attachments": {},
   "cell_type": "markdown",
   "metadata": {},
   "source": [
    "## Small-signal gain"
   ]
  },
  {
   "attachments": {},
   "cell_type": "markdown",
   "metadata": {},
   "source": [
    "```{figure} ../images/fig39.jpg\n",
    "---\n",
    "height: 250px\n",
    "name: fig39\n",
    "---\n",
    "Small-signal gain.\n",
    "```\n",
    "\n",
    "The gain is given by\n",
    "\n",
    "$$\n",
    "    A &= \\frac{V_{\\text{out}}}{V_{\\text{in}}} \\\\\n",
    "    &= \\frac{(g_m + g_{mb})r_o + 1}{r_o + (g_m + g_{mb}) r_o R_S + R_S + R_D} R_D \\quad \\text{ (and with } \\lambda = 0 \\text{)} \\\\\n",
    "    &= \\frac{(g_m + g_{mb}) R_D}{1 + (g_m + g_{mb}) R_S} \\quad \\text{ (and with } R_S=0 \\text{)}\\\\\n",
    "    &= (g_m + g_{mb}) R_D\n",
    "$$"
   ]
  },
  {
   "attachments": {},
   "cell_type": "markdown",
   "metadata": {},
   "source": [
    "## Input resistance"
   ]
  },
  {
   "attachments": {},
   "cell_type": "markdown",
   "metadata": {},
   "source": [
    "```{figure} ../images/fig40.jpg\n",
    "---\n",
    "height: 250px\n",
    "name: fig40\n",
    "---\n",
    "Input impedance test voltage and current.\n",
    "```\n",
    "\n",
    "$$\n",
    "    I_x &= -g_m V_{GS} + (V_x - I_x R_D) / r_o - g_{mb} V_{bs} \\\\\n",
    "    &= g_m V_x + (V_x - I_x R_D) / r_o + g_{mb} V_x\n",
    "$$\n",
    "\n",
    "Therefore,\n",
    "\n",
    "$$\n",
    "    \\frac{V_x}{I_x} = \\frac{r_o + R_D}{1 + (g_m + g_{mb}) r_o} \\approxeq \\frac{1}{g_m + g_{mb}} + \\frac{R_D}{(g_m + g_{mb}) r_o}\n",
    "$$\n",
    "\n",
    "The approximation above can be made if we assume $g_m + g_{mb} r_o \\gg 1$.\n",
    "\n",
    "This has low input resistance. The output resistance is the same as for the \n",
    "common source with degeneration:\n",
    "\n",
    "$$\n",
    "    R_{\\text{out}} = R_D || [ r_o + R_S + (g_m + g_{mb}) r_o R_S ]\n",
    "$$\n",
    "\n",
    "```{admonition} Summary\n",
    ":class: tip\n",
    "\n",
    "This is the only topology you can design input impedance to be a specific value.\n",
    "\n",
    "* ✅ Good for impedance matching.\n",
    "* ✅ Good as a current buffer/amplifier (current input).\n",
    "```"
   ]
  },
  {
   "cell_type": "markdown",
   "metadata": {},
   "source": []
  }
 ],
 "metadata": {
  "kernelspec": {
   "display_name": "Python 3.9.6 ('design')",
   "language": "python",
   "name": "python3"
  },
  "language_info": {
   "name": "python",
   "version": "3.9.6"
  },
  "orig_nbformat": 4,
  "vscode": {
   "interpreter": {
    "hash": "bb3200b6e43d4341bac0decd16cd7189f72dc8bcd43f4b7917dc5446e5a1d0af"
   }
  }
 },
 "nbformat": 4,
 "nbformat_minor": 2
}
