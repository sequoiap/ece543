{
 "cells": [
  {
   "cell_type": "markdown",
   "metadata": {},
   "source": [
    "# Common Drain Amplifier"
   ]
  },
  {
   "attachments": {},
   "cell_type": "markdown",
   "metadata": {},
   "source": [
    "This configuration is also known as the source-follower because the source\n",
    "voltage follows the gate voltage."
   ]
  },
  {
   "attachments": {},
   "cell_type": "markdown",
   "metadata": {},
   "source": [
    "```{figure} ../images/fig32.jpg\n",
    "---\n",
    "height: 250px\n",
    "name: fig32\n",
    "---\n",
    "Large-signal behavior.\n",
    "```"
   ]
  },
  {
   "attachments": {},
   "cell_type": "markdown",
   "metadata": {},
   "source": [
    "## Small signal gain"
   ]
  },
  {
   "attachments": {},
   "cell_type": "markdown",
   "metadata": {},
   "source": [
    "```{figure} ../images/fig33.jpg\n",
    "---\n",
    "height: 250px\n",
    "name: fig33\n",
    "---\n",
    "Small-signal circuit model.\n",
    "```"
   ]
  },
  {
   "attachments": {},
   "cell_type": "markdown",
   "metadata": {},
   "source": [
    "## Eliminating body effect"
   ]
  },
  {
   "attachments": {},
   "cell_type": "markdown",
   "metadata": {},
   "source": [
    "```{figure} ../images/fig34.jpg\n",
    "---\n",
    "height: 250px\n",
    "name: fig34\n",
    "---\n",
    "Eliminating body effect by tying the bulk to source.\n",
    "```\n",
    "\n",
    "```{figure} ../images/fig35.svg\n",
    "---\n",
    "height: 250px\n",
    "name: fig35\n",
    "---\n",
    "The triple well.\n",
    "```\n",
    "\n",
    "```{admonition} Notes about the triple well:\n",
    ":class: tip\n",
    "\n",
    "* ✅ The gain is approximately one.\n",
    "* ❌ It requires a lot of area on the chip (large footprint).\n",
    "* ❌ The process needs to support a triple well.\n",
    "* ❌ Capacitance between n-p regions means more source capacitance.\n",
    "```"
   ]
  },
  {
   "attachments": {},
   "cell_type": "markdown",
   "metadata": {},
   "source": [
    "```{figure} ../images/fig36.jpg\n",
    "---\n",
    "height: 250px\n",
    "name: fig36\n",
    "---\n",
    "Solving for the output resistance.\n",
    "```"
   ]
  },
  {
   "attachments": {},
   "cell_type": "markdown",
   "metadata": {},
   "source": [
    "## Full equation"
   ]
  },
  {
   "attachments": {},
   "cell_type": "markdown",
   "metadata": {},
   "source": [
    "```{figure} ../images/fig37.jpg\n",
    "---\n",
    "height: 250px\n",
    "name: fig37\n",
    "---\n",
    "Full equation.\n",
    "```\n",
    "\n",
    "The gain is given by\n",
    "\n",
    "$$\n",
    "    A = \\frac{ \\frac{1}{g_{mb_{1}}} || r_{o1} || r_{o2} || R_L }{ \\left( \\frac{1}{g_{mb_{1}}} || r_{o1} || r_{o2} || R_L \\right) + \\frac{1}{g_{m_{1}}} }\n",
    "$$\n",
    "\n",
    "You want to eliminate the $1/g_{m_{1}}$ term in the denominator, if possible.\n",
    "It is easy to drop if the preceding term is large.\n",
    "\n",
    "In this case, to maximize gain, you must maximize $r_o$."
   ]
  },
  {
   "attachments": {},
   "cell_type": "markdown",
   "metadata": {},
   "source": [
    "```{admonition} Summary\n",
    ":class: tip\n",
    "\n",
    "The common drain amplifier is good for driving large loads off-chip. For example,\n",
    "you've done your amplification in previous stages and can afford to attenuate\n",
    "a bit in exchange for low output resistance.\n",
    "```"
   ]
  },
  {
   "cell_type": "markdown",
   "metadata": {},
   "source": []
  }
 ],
 "metadata": {
  "kernelspec": {
   "display_name": "Python 3.9.6 ('design')",
   "language": "python",
   "name": "python3"
  },
  "language_info": {
   "name": "python",
   "version": "3.9.6"
  },
  "orig_nbformat": 4,
  "vscode": {
   "interpreter": {
    "hash": "bb3200b6e43d4341bac0decd16cd7189f72dc8bcd43f4b7917dc5446e5a1d0af"
   }
  }
 },
 "nbformat": 4,
 "nbformat_minor": 2
}
